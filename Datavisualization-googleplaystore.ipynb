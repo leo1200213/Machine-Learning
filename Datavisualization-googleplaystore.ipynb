{
 "cells": [
  {
   "cell_type": "code",
   "execution_count": null,
   "metadata": {},
   "outputs": [
    {
     "name": "stderr",
     "output_type": "stream",
     "text": [
      "D:\\01_School\\Computer\\machinelearning\\lib\\site-packages\\pandas\\core\\indexing.py:189: SettingWithCopyWarning: \n",
      "A value is trying to be set on a copy of a slice from a DataFrame\n",
      "\n",
      "See the caveats in the documentation: http://pandas.pydata.org/pandas-docs/stable/indexing.html#indexing-view-versus-copy\n",
      "  self._setitem_with_indexer(indexer, value)\n"
     ]
    }
   ],
   "source": [
    "import numpy as np\n",
    "import pandas as pd\n",
    "from pandas import Series , DataFrame\n",
    "import matplotlib.pyplot as pt\n",
    "from pylab import rcParams\n",
    "import seaborn as sb\n",
    "import sklearn\n",
    "from sklearn import preprocessing\n",
    "from sklearn.preprocessing import scale\n",
    "\n",
    "def atoi(string): \n",
    "    res = 0\n",
    "  \n",
    "    # Iterate through all characters of input string and  \n",
    "    # update result \n",
    "    for i in range(len(string)): \n",
    "        res = res*10 + (ord(string[i]) - ord('0')) \n",
    "  \n",
    "    return res \n",
    "\n",
    "dataframe = pd.read_csv('googleplaystore.csv')\n",
    "newdataframe=dataframe.fillna(method=\"ffill\")\n",
    "Total=newdataframe.drop(['App','Size','Last Updated','Price','Content Rating','Genres','Current Ver','Android Ver'],axis=1)\n",
    "for index in range(len(Total)):\n",
    "    string=atoi(Total[\"Installs\"].iloc[index][0:len(Total[\"Installs\"].iloc[index])-1])\n",
    "    Total[\"Installs\"].iloc[index]=string\n",
    "Total\n"
   ]
  },
  {
   "cell_type": "code",
   "execution_count": null,
   "metadata": {},
   "outputs": [],
   "source": []
  }
 ],
 "metadata": {
  "kernelspec": {
   "display_name": "Python 3",
   "language": "python",
   "name": "python3"
  },
  "language_info": {
   "codemirror_mode": {
    "name": "ipython",
    "version": 3
   },
   "file_extension": ".py",
   "mimetype": "text/x-python",
   "name": "python",
   "nbconvert_exporter": "python",
   "pygments_lexer": "ipython3",
   "version": "3.7.0"
  }
 },
 "nbformat": 4,
 "nbformat_minor": 2
}
